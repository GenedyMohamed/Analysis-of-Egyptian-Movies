{
 "cells": [
  {
   "cell_type": "code",
   "execution_count": 6,
   "metadata": {},
   "outputs": [
    {
     "name": "stderr",
     "output_type": "stream",
     "text": [
      "C:\\Users\\RS3\\Anaconda3\\lib\\site-packages\\fuzzywuzzy\\fuzz.py:11: UserWarning: Using slow pure-python SequenceMatcher. Install python-Levenshtein to remove this warning\n",
      "  warnings.warn('Using slow pure-python SequenceMatcher. Install python-Levenshtein to remove this warning')\n"
     ]
    }
   ],
   "source": [
    "# imports\n",
    "import itertools\n",
    "from nltk import FreqDist\n",
    "from fuzzywuzzy import fuzz"
   ]
  },
  {
   "cell_type": "code",
   "execution_count": 12,
   "metadata": {},
   "outputs": [],
   "source": [
    "file = open('names.txt', 'r', encoding = 'utf-8')\n",
    "s = file.read()\n",
    "file.close()\n",
    "\n",
    "s = s.split('\\n')\n",
    "s = list(filter(None, s))\n",
    "for i in range(len(s)):\n",
    "    s[i] = s[i].strip()\n",
    "names = FreqDist(s)\n",
    "\n",
    "corrections = {}\n",
    "i = 0\n",
    "for name1, name2 in itertools.combinations(names.items(), 2):\n",
    "    out = fuzz.ratio(name1[0], name2[0])\n",
    "    if out > 90 and out < 100:\n",
    "        print(name1[0], ': ', name1[1],'   ', name2[0], ': ', name2[1])\n",
    "        if((not name1[1] == name2[1]) and min([name1[1], name2[1]]) < 10):\n",
    "            corrected_name = ''\n",
    "            syllables = []\n",
    "            if(name1[1] == min([name1[1], name2[1]])):\n",
    "                corrected_name = name2[0]\n",
    "                syllables = name2[0].split()\n",
    "            else:\n",
    "                corrected_name = name1[0]\n",
    "                syllables = name1[0].split()\n",
    "                \n",
    "            if('عبد' in syllables):\n",
    "                for i in range(len(syllables)):\n",
    "                    if(syllables[i] == 'عبد' and i < len(syllables) - 1):\n",
    "                        corrected_name = ''\n",
    "                        for part in syllables:\n",
    "                            if (not part == 'عبد'):\n",
    "                                corrected_name += part + ' '\n",
    "                            else:\n",
    "                                corrected_name += part\n",
    "                        corrected_name = corrected_name.strip()\n",
    "                corrections[name1[0]] = corrected_name\n",
    "                corrections[name2[0]] = corrected_name\n",
    "            elif(name1[1] == min([name1[1], name2[1]])):                \n",
    "                corrections[name1[0]] = corrected_name\n",
    "            else:\n",
    "                corrections[name2[0]] = corrected_name\n",
    "            if i == 10:\n",
    "                break\n",
    "            i += 1\n",
    "    \n",
    "\n",
    "with open('testFix.txt', 'w', encoding='utf-8') as file:\n",
    "    for key, value in corrections.items():\n",
    "        file.write('old: ' + key + ':\\t\\t new: ' + value + '\\n')"
   ]
  },
  {
   "cell_type": "code",
   "execution_count": null,
   "metadata": {},
   "outputs": [],
   "source": []
  }
 ],
 "metadata": {
  "kernelspec": {
   "display_name": "Python 3",
   "language": "python",
   "name": "python3"
  },
  "language_info": {
   "codemirror_mode": {
    "name": "ipython",
    "version": 3
   },
   "file_extension": ".py",
   "mimetype": "text/x-python",
   "name": "python",
   "nbconvert_exporter": "python",
   "pygments_lexer": "ipython3",
   "version": "3.6.5"
  }
 },
 "nbformat": 4,
 "nbformat_minor": 2
}
