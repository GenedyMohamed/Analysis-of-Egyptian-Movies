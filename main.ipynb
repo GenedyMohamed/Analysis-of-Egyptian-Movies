{
 "cells": [
  {
   "cell_type": "code",
   "execution_count": 1,
   "metadata": {},
   "outputs": [],
   "source": [
    "# imports\n",
    "from web_scrapping import simple_get, write_html, read_html, add_to_csv, add_films_to_csv, get_film_details, get_avg_duration, write_avg_durations, get_names, get_synopses"
   ]
  },
  {
   "cell_type": "code",
   "execution_count": 8,
   "metadata": {},
   "outputs": [],
   "source": [
    "# using functions in web_scraping.py to:\n",
    "# - webscraping and retrieval of data to csv file\n",
    "# - writing avg decade durations for movies with missing time value and correction of data\n",
    "# - retieval of all movie synopses\n",
    "\n",
    "# raw_html = simple_get(\"https://www.elcinema.com/work/1007952/\")\n",
    "# write_html(raw_html, \"page.html\")\n",
    "    \n",
    "# get_film_details(\"/work/1002400/\")\n",
    "# get_film_details(\"/work/1809879/\")\n",
    "# get_film_details(\"/work/1619698/\")\n",
    "# get_film_details(\"/work/1006659/\")\n",
    "# dict = {}\n",
    "# dict.update(get_film_details(\"/work/1007952/\"))\n",
    "# add_to_csv(dict)            \n",
    "# get_film_details(\"/work/1010353/\")\n",
    "# add_films_to_csv()\n",
    "# write_avg_durations()\n",
    "# print(get_synopses())\n",
    "# get_names()"
   ]
  },
  {
   "cell_type": "code",
   "execution_count": null,
   "metadata": {},
   "outputs": [],
   "source": []
  }
 ],
 "metadata": {
  "kernelspec": {
   "display_name": "Python 3",
   "language": "python",
   "name": "python3"
  },
  "language_info": {
   "codemirror_mode": {
    "name": "ipython",
    "version": 3
   },
   "file_extension": ".py",
   "mimetype": "text/x-python",
   "name": "python",
   "nbconvert_exporter": "python",
   "pygments_lexer": "ipython3",
   "version": "3.6.5"
  }
 },
 "nbformat": 4,
 "nbformat_minor": 2
}
